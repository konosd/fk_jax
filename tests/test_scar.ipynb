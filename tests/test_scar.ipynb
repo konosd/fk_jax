{
 "cells": [
  {
   "cell_type": "code",
   "execution_count": 2,
   "metadata": {},
   "outputs": [],
   "source": [
    "%load_ext autoreload\n",
    "%autoreload 2"
   ]
  },
  {
   "cell_type": "code",
   "execution_count": 1,
   "metadata": {},
   "outputs": [
    {
     "name": "stdout",
     "output_type": "stream",
     "text": [
      "/Users/kn119/Documents/MSc/cardiolearning/fenton_karma_jax-master/tests\r\n"
     ]
    }
   ],
   "source": [
    "!pwd"
   ]
  },
  {
   "cell_type": "code",
   "execution_count": 2,
   "metadata": {},
   "outputs": [],
   "source": [
    "import os\n",
    "from fk import params\n",
    "# from fk import model\n",
    "from fk import convert\n",
    "from fk import stimulus\n",
    "import matplotlib.pyplot as plt\n",
    "import jax\n",
    "import jax.numpy as np\n",
    "\n",
    "\n",
    "\n",
    "# Instead of importing model\n",
    "import os\n",
    "\n",
    "os.chdir(\"../fk\")\n",
    "\n",
    "import model\n",
    "import plot\n",
    "\n",
    "os.chdir(\"../tests\")\n",
    "# "
   ]
  },
  {
   "cell_type": "code",
   "execution_count": 3,
   "metadata": {},
   "outputs": [],
   "source": [
    "# simulation inputs (real values)\n",
    "field_size = (12, 12)  # cm\n",
    "d = 0.001  # (cm^2/ms)\n",
    "cell_parameters = params.params2()\n",
    "\n",
    "# infinitesimals\n",
    "dx = 0.01  # (cm/units) - Fenton 1998 recommends ~200, 300 micron/gridunit (~0.02, 0.03), smaller dx means finer grid\n",
    "dt = 0.01  # (ms) - Fenton 1998 recommends few hundreds of ms (~0.01, 0.04)"
   ]
  },
  {
   "cell_type": "code",
   "execution_count": 17,
   "metadata": {},
   "outputs": [],
   "source": [
    "def show_stimuli(*stimuli, **kwargs):\n",
    "    fig, ax = plt.subplots(1, len(stimuli), figsize=(kwargs.pop(\"figsize\", None) or (10, 3)))\n",
    "    vmin = kwargs.pop(\"vmin\", -1)\n",
    "    vmax = kwargs.pop(\"vmax\", 1)\n",
    "    cmap = kwargs.pop(\"cmap\", \"RdBu\")\n",
    "    for i, stimulus in enumerate(stimuli):\n",
    "        im = ax[i].imshow(stimulus[\"field\"], vmin=vmin, vmax=vmax, cmap=cmap, **kwargs)\n",
    "        plt.colorbar(im, ax=ax[i])\n",
    "        ax[i].set_title(\"Stimulus %d\" % i)\n",
    "    plt.show()\n",
    "    return\n",
    "\n",
    "def show(state, **kwargs):\n",
    "    fig, ax = plt.subplots(1, 4, figsize=(kwargs.pop(\"figsize\", None) or (10, 3)))\n",
    "    vmin = kwargs.pop(\"vmin\", -1)\n",
    "    vmax = kwargs.pop(\"vmax\", 1)\n",
    "    tmin = kwargs.pop(\"tmin\", 0)\n",
    "    tmax = kwargs.pop(\"tmax\", 1000)\n",
    "    cmap = kwargs.pop(\"cmap\", \"RdBu\")\n",
    "    im = ax[0].imshow(state[0], vmin=vmin, vmax=vmax, cmap=cmap, **kwargs)\n",
    "    plt.colorbar(im, ax=ax[0])\n",
    "    ax[0].set_title(\"v\")\n",
    "    im = ax[1].imshow(state[1], vmin=vmin, vmax=vmax, cmap=cmap, **kwargs)\n",
    "    plt.colorbar(im, ax=ax[1])\n",
    "    ax[1].set_title(\"w\")\n",
    "    im = ax[2].imshow(state[2], vmin=vmin, vmax=vmax, cmap=cmap, **kwargs)\n",
    "    plt.colorbar(im, ax=ax[2])\n",
    "    ax[2].set_title(\"u\")\n",
    "    im = ax[3].imshow(state[3], vmin=tmin, vmax=tmax, cmap=cmap, **kwargs)\n",
    "    plt.colorbar(im, ax=ax[3])\n",
    "    ax[3].set_title(\"at\")\n",
    "    plt.show()\n",
    "    return fig, ax\n",
    "\n",
    "def show_conductivity(*stimuli, **kwargs):\n",
    "    fig, ax = plt.subplots(1, len(stimuli), figsize=(kwargs.pop(\"figsize\", None) or (10, 3)))\n",
    "    vmin = kwargs.pop(\"vmin\", -1)\n",
    "    vmax = kwargs.pop(\"vmax\", 1)\n",
    "    cmap = kwargs.pop(\"cmap\", \"RdBu\")\n",
    "    for i, stimulus in enumerate(stimuli):\n",
    "        im = ax[i].imshow(stimulus[\"field\"], vmin=vmin, vmax=vmax, cmap=cmap, **kwargs)\n",
    "        plt.colorbar(im, ax=ax[i])\n",
    "        ax[i].set_title(\"Stimulus %d\" % i)\n",
    "    plt.show()\n",
    "    return"
   ]
  },
  {
   "cell_type": "code",
   "execution_count": 6,
   "metadata": {},
   "outputs": [
    {
     "name": "stderr",
     "output_type": "stream",
     "text": [
      "/opt/anaconda3/envs/cardio/lib/python3.7/site-packages/jax/lib/xla_bridge.py:125: UserWarning: No GPU/TPU found, falling back to CPU.\n",
      "  warnings.warn('No GPU/TPU found, falling back to CPU.')\n"
     ]
    },
    {
     "name": "stdout",
     "output_type": "stream",
     "text": [
      "(1200, 1200)\n",
      "real tissue size: (12, 12)\n",
      "{'tau_v_plus': 10, 'tau_v1_minus': 10, 'tau_v2_minus': 10, 'tau_w_plus': 1000000.0, 'tau_w_minus': 1000000.0, 'tau_d': 0.25, 'tau_0': 10, 'tau_r': 190, 'tau_si': 1000000.0, 'k': 100000, 'V_csi': 1000000.0, 'V_c': 0.13, 'V_v': 1000000.0, 'Cm': 1}\n"
     ]
    },
    {
     "data": {
      "image/png": "[encoded data removed]",
      "text/plain": [
       "<Figure size 720x216 with 4 Axes>"
      ]
     },
     "metadata": {
      "needs_background": "light"
     },
     "output_type": "display_data"
    }
   ],
   "source": [
    "# to computational units\n",
    "shape = convert.realsize_to_shape(field_size, dx)\n",
    "\n",
    "stripe_size = int(shape[0] / 10)\n",
    "\n",
    "protocol1 = stimulus.protocol(start=0, duration=2, period=0)\n",
    "s1 = stimulus.rectangular(shape, (shape[0]-stripe_size/2,shape[0]/2), (stripe_size, shape[1]), 1., protocol1)\n",
    "\n",
    "protocol2 = stimulus.protocol(start=25000, duration=2, period=0)\n",
    "s2 = stimulus.rectangular(shape, (shape[1]/2, shape[0]-stripe_size/2), (shape[1], stripe_size), 1., protocol2)\n",
    "\n",
    "# protocol3 = stimulus.protocol(start=20000, duration=2, period=0)\n",
    "# s3 = stimulus.rectangular(shape, jax.ops.index[stripe_size*2:stripe_size*4, stripe_size*2:stripe_size*4], 1., protocol3)\n",
    "\n",
    "# protocol4 = stimulus.protocol(start=30000, duration=2, period=0)\n",
    "# s4 = stimulus.rectangular(shape, jax.ops.index[stripe_size*4:stripe_size*5, :], 1., protocol4)\n",
    "\n",
    "stimuli = [s1, s2]\n",
    "\n",
    "print(shape)\n",
    "print(\"real tissue size:\", field_size)\n",
    "print(cell_parameters)\n",
    "show_stimuli(*stimuli)"
   ]
  },
  {
   "cell_type": "code",
   "execution_count": 19,
   "metadata": {},
   "outputs": [
    {
     "name": "stdout",
     "output_type": "stream",
     "text": [
      "100\n"
     ]
    },
    {
     "data": {
      "image/png": "[encoded data removed]",
      "text/plain": [
       "<Figure size 720x216 with 8 Axes>"
      ]
     },
     "metadata": {
      "needs_background": "light"
     },
     "output_type": "display_data"
    },
    {
     "name": "stdout",
     "output_type": "stream",
     "text": [
      "500\n"
     ]
    },
    {
     "data": {
      "image/png": "[encoded data removed]",
      "text/plain": [
       "<Figure size 720x216 with 8 Axes>"
      ]
     },
     "metadata": {
      "needs_background": "light"
     },
     "output_type": "display_data"
    },
    {
     "name": "stdout",
     "output_type": "stream",
     "text": [
      "1000\n"
     ]
    },
    {
     "data": {
      "image/png": "[encoded data removed]",
      "text/plain": [
       "<Figure size 720x216 with 8 Axes>"
      ]
     },
     "metadata": {
      "needs_background": "light"
     },
     "output_type": "display_data"
    }
   ],
   "source": [
    "checkpoints = np.arange(0,1)\n",
    "v = []\n",
    "\n",
    "state = model.init(shape)\n",
    "for i in range(len(checkpoints) - 1):\n",
    "    state = model._forward(state, checkpoints[i], checkpoints[i + 1], cell_parameters, np.ones(shape) * d, stimuli, dt, dx)  # dt = 10000\n",
    "    v.append(state[2][1200-200,600])\n",
    "    print(checkpoints[i + 1])\n",
    "    show(state, tmax=1200)"
   ]
  },
  {
   "cell_type": "code",
   "execution_count": 37,
   "metadata": {},
   "outputs": [
    {
     "data": {
      "text/plain": [
       "DeviceArray(0.99615234, dtype=float32)"
      ]
     },
     "execution_count": 37,
     "metadata": {},
     "output_type": "execute_result"
    }
   ],
   "source": [
    "state[2][1200-100,600]"
   ]
  },
  {
   "cell_type": "code",
   "execution_count": 36,
   "metadata": {},
   "outputs": [],
   "source": [
    "u = model.stimulate(0,u, stimuli)"
   ]
  },
  {
   "cell_type": "code",
   "execution_count": 37,
   "metadata": {},
   "outputs": [
    {
     "data": {
      "text/plain": [
       "DeviceArray([[0., 0., 0., ..., 0., 0., 0.],\n",
       "             [0., 0., 0., ..., 0., 0., 0.],\n",
       "             [0., 0., 0., ..., 0., 0., 0.],\n",
       "             ...,\n",
       "             [1., 1., 1., ..., 1., 1., 1.],\n",
       "             [1., 1., 1., ..., 1., 1., 1.],\n",
       "             [1., 1., 1., ..., 1., 1., 1.]], dtype=float32)"
      ]
     },
     "execution_count": 37,
     "metadata": {},
     "output_type": "execute_result"
    }
   ],
   "source": [
    "def neumann(X):\n",
    "    X = jax.ops.index_update(X, jax.ops.index[0], X[1])\n",
    "    X = jax.ops.index_update(X, jax.ops.index[-1], X[-2])\n",
    "    X = jax.ops.index_update(X, jax.ops.index[..., 0], X[..., 1])\n",
    "    X = jax.ops.index_update(X, jax.ops.index[..., -1], X[..., -2])\n",
    "    return X"
   ]
  },
  {
   "cell_type": "code",
   "execution_count": 47,
   "metadata": {},
   "outputs": [],
   "source": [
    "u = model.neumann(u)"
   ]
  },
  {
   "cell_type": "code",
   "execution_count": 62,
   "metadata": {},
   "outputs": [
    {
     "data": {
      "image/png": "[encoded data removed]",
      "text/plain": [
       "<Figure size 720x216 with 6 Axes>"
      ]
     },
     "metadata": {
      "needs_background": "light"
     },
     "output_type": "display_data"
    },
    {
     "data": {
      "text/plain": [
       "(<Figure size 720x216 with 6 Axes>,\n",
       " array([<matplotlib.axes._subplots.AxesSubplot object at 0x1391f2c90>,\n",
       "        <matplotlib.axes._subplots.AxesSubplot object at 0x139222910>,\n",
       "        <matplotlib.axes._subplots.AxesSubplot object at 0x13deebf50>],\n",
       "       dtype=object))"
      ]
     },
     "execution_count": 62,
     "metadata": {},
     "output_type": "execute_result"
    }
   ],
   "source": [
    "show([model.gradient(v,0),model.gradient(w,0),model.gradient(u,0)])"
   ]
  },
  {
   "cell_type": "code",
   "execution_count": 128,
   "metadata": {},
   "outputs": [
    {
     "data": {
      "image/png": "[encoded data removed]",
      "text/plain": [
       "<Figure size 432x288 with 1 Axes>"
      ]
     },
     "metadata": {
      "needs_background": "light"
     },
     "output_type": "display_data"
    }
   ],
   "source": [
    "conductivity = np.ones(shape, dtype=\"float32\")\n",
    "x1=0\n",
    "y2=shape[0]//2\n",
    "y1=0\n",
    "x2=shape[0]\n",
    "conductivity = jax.ops.index_update(conductivity, jax.ops.index[x1:x2, y1:y2], 0.5)\n",
    "plt.imshow(conductivity)\n",
    "plt.show()"
   ]
  },
  {
   "cell_type": "code",
   "execution_count": 129,
   "metadata": {},
   "outputs": [],
   "source": [
    "conductivity2 = np.ones(shape, dtype = \"float32\")"
   ]
  },
  {
   "cell_type": "code",
   "execution_count": 16,
   "metadata": {},
   "outputs": [
    {
     "name": "stdout",
     "output_type": "stream",
     "text": [
      "Help on method_descriptor:\n",
      "\n",
      "pop(...)\n",
      "    D.pop(k[,d]) -> v, remove specified key and return the corresponding value.\n",
      "    If key is not found, d is returned if given, otherwise KeyError is raised\n",
      "\n"
     ]
    }
   ],
   "source": [
    "help(dict.pop)"
   ]
  }
 ],
 "metadata": {
  "kernelspec": {
   "display_name": "Python 3",
   "language": "python",
   "name": "python3"
  },
  "language_info": {
   "codemirror_mode": {
    "name": "ipython",
    "version": 3
   },
   "file_extension": ".py",
   "mimetype": "text/x-python",
   "name": "python",
   "nbconvert_exporter": "python",
   "pygments_lexer": "ipython3",
   "version": "3.7.7"
  }
 },
 "nbformat": 4,
 "nbformat_minor": 4
}
